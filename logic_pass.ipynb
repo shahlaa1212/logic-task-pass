{
  "nbformat": 4,
  "nbformat_minor": 0,
  "metadata": {
    "colab": {
      "name": "logic-pass.ipynb",
      "provenance": [],
      "collapsed_sections": [],
      "toc_visible": true,
      "authorship_tag": "ABX9TyNKMjNqIT6ypogn7iZYo6FV",
      "include_colab_link": true
    },
    "kernelspec": {
      "name": "python3",
      "display_name": "Python 3"
    },
    "language_info": {
      "name": "python"
    }
  },
  "cells": [
    {
      "cell_type": "markdown",
      "metadata": {
        "id": "view-in-github",
        "colab_type": "text"
      },
      "source": [
        "<a href=\"https://colab.research.google.com/github/shahlaa1212/logic-task-pass/blob/main/logic_pass.ipynb\" target=\"_parent\"><img src=\"https://colab.research.google.com/assets/colab-badge.svg\" alt=\"Open In Colab\"/></a>"
      ]
    },
    {
      "cell_type": "markdown",
      "source": [
        "# **Q1**/ Write a method that will remove any given character from a string ?"
      ],
      "metadata": {
        "id": "9WVpC21pnp3Z"
      }
    },
    {
      "cell_type": "code",
      "source": [
        "def remove_charater(s):\n",
        " s = \"AiDoJo\"\n",
        " s2 = s.replace(\"b\",\"p\")\n",
        " print(s2)\n",
        "\n",
        " s3 = s.replace(\"!\",\"\")\n",
        " print(s3)\n",
        "\n",
        "remove_charater(s) "
      ],
      "metadata": {
        "colab": {
          "base_uri": "https://localhost:8080/"
        },
        "id": "LSa4slEDogmY",
        "outputId": "be7b294c-1a84-474e-8389-7d713d6d549d"
      },
      "execution_count": 15,
      "outputs": [
        {
          "output_type": "stream",
          "name": "stdout",
          "text": [
            "AiDoJo\n",
            "AiDoJo\n"
          ]
        }
      ]
    },
    {
      "cell_type": "markdown",
      "source": [
        "# **Q2**/ Write a program to find all prime numbers up to a given range of numbers ?"
      ],
      "metadata": {
        "id": "T_71O9mlohvw"
      }
    },
    {
      "cell_type": "code",
      "source": [
        "s = \"flexible!\"\n",
        "s2 = s.replace(\"b\",\"p\")\n",
        "\n",
        "print(s2)\n",
        "\n",
        "s3 = s.replace(\"!\",\"\")\n",
        "\n",
        "print(s3)\n"
      ],
      "metadata": {
        "colab": {
          "base_uri": "https://localhost:8080/"
        },
        "id": "utla60R_pGav",
        "outputId": "9339b69e-db13-4776-ba25-3538b5bbaac8"
      },
      "execution_count": 13,
      "outputs": [
        {
          "output_type": "stream",
          "name": "stdout",
          "text": [
            "flexiple!\n",
            "flexible\n"
          ]
        }
      ]
    },
    {
      "cell_type": "markdown",
      "source": [
        "# **Q3**/ Write a function that count how many the given character repeated in a given string ?"
      ],
      "metadata": {
        "id": "M1COgB2ypZFs"
      }
    },
    {
      "cell_type": "code",
      "source": [
        ""
      ],
      "metadata": {
        "id": "bbk-yMZzpwzI"
      },
      "execution_count": null,
      "outputs": []
    }
  ]
}