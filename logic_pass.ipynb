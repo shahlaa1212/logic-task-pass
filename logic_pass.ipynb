{
  "nbformat": 4,
  "nbformat_minor": 0,
  "metadata": {
    "colab": {
      "name": "logic-pass.ipynb",
      "provenance": [],
      "collapsed_sections": [],
      "authorship_tag": "ABX9TyPOFaLKeaQXhvDB3cNakmTj",
      "include_colab_link": true
    },
    "kernelspec": {
      "name": "python3",
      "display_name": "Python 3"
    },
    "language_info": {
      "name": "python"
    }
  },
  "cells": [
    {
      "cell_type": "markdown",
      "metadata": {
        "id": "view-in-github",
        "colab_type": "text"
      },
      "source": [
        "<a href=\"https://colab.research.google.com/github/shahlaa1212/logic-task-pass/blob/main/logic_pass.ipynb\" target=\"_parent\"><img src=\"https://colab.research.google.com/assets/colab-badge.svg\" alt=\"Open In Colab\"/></a>"
      ]
    },
    {
      "cell_type": "markdown",
      "source": [
        "# **Q1**/ Write a method that will remove any given character from a string?"
      ],
      "metadata": {
        "id": "9WVpC21pnp3Z"
      }
    },
    {
      "cell_type": "code",
      "source": [
        "def remove_charater(word, c):\n",
        "    result = filter(lambda x: x != c, word)\n",
        "    return \"\".join(result)\n",
        "\n",
        "remove_charater(\"aidojokk machinekk learningkk\", \"k\") "
      ],
      "metadata": {
        "colab": {
          "base_uri": "https://localhost:8080/",
          "height": 35
        },
        "id": "LSa4slEDogmY",
        "outputId": "55670642-5117-426b-d65b-eae44aa45867"
      },
      "execution_count": 15,
      "outputs": [
        {
          "output_type": "execute_result",
          "data": {
            "text/plain": [
              "'aidojo machine learning'"
            ],
            "application/vnd.google.colaboratory.intrinsic+json": {
              "type": "string"
            }
          },
          "metadata": {},
          "execution_count": 15
        }
      ]
    },
    {
      "cell_type": "markdown",
      "source": [
        "# **Q2**/ Write a program to find all prime numbers up to a given range of numbers?"
      ],
      "metadata": {
        "id": "T_71O9mlohvw"
      }
    },
    {
      "cell_type": "code",
      "source": [
        "min = int(input(\"Enter the min : \"))\n",
        "max = int(input(\"Enter the max : \"))\n",
        "\n",
        "for n in range(min,max + 1):\n",
        "   if n > 1:\n",
        "       for i in range(2,n):\n",
        "           if (n % i) == 0:\n",
        "               break\n",
        "       else:\n",
        "           print(n)"
      ],
      "metadata": {
        "colab": {
          "base_uri": "https://localhost:8080/"
        },
        "id": "utla60R_pGav",
        "outputId": "51dccbdb-e1b3-475c-fc1d-694811f702e7"
      },
      "execution_count": 17,
      "outputs": [
        {
          "output_type": "stream",
          "name": "stdout",
          "text": [
            "Enter the min : 1\n",
            "Enter the max : 10\n",
            "2\n",
            "3\n",
            "5\n",
            "7\n"
          ]
        }
      ]
    },
    {
      "cell_type": "markdown",
      "source": [
        "# **Q3**/ Write a function that count how many the given character repeated in a given string?"
      ],
      "metadata": {
        "id": "M1COgB2ypZFs"
      }
    },
    {
      "cell_type": "code",
      "source": [
        "def count_repeated_character(s, c) :     \n",
        "    res = 0\n",
        "    for i in range(len(s)) :\n",
        "        if (s[i] == c):\n",
        "            res = res + 1\n",
        "    return res\n",
        "          \n",
        "print(count_repeated_character(\"aaabcd\", \"a\"))"
      ],
      "metadata": {
        "colab": {
          "base_uri": "https://localhost:8080/"
        },
        "id": "bbk-yMZzpwzI",
        "outputId": "37c41952-df18-469f-8022-9cd774b63527"
      },
      "execution_count": 18,
      "outputs": [
        {
          "output_type": "stream",
          "name": "stdout",
          "text": [
            "3\n"
          ]
        }
      ]
    }
  ]
}