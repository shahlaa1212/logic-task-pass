{
  "nbformat": 4,
  "nbformat_minor": 0,
  "metadata": {
    "colab": {
      "name": "logic-pass.ipynb",
      "provenance": [],
      "collapsed_sections": [],
      "toc_visible": true,
      "authorship_tag": "ABX9TyPTC7kIqFcS9krTgYfryPnZ",
      "include_colab_link": true
    },
    "kernelspec": {
      "name": "python3",
      "display_name": "Python 3"
    },
    "language_info": {
      "name": "python"
    }
  },
  "cells": [
    {
      "cell_type": "markdown",
      "metadata": {
        "id": "view-in-github",
        "colab_type": "text"
      },
      "source": [
        "<a href=\"https://colab.research.google.com/github/shahlaa1212/logic-task-pass/blob/main/logic_pass.ipynb\" target=\"_parent\"><img src=\"https://colab.research.google.com/assets/colab-badge.svg\" alt=\"Open In Colab\"/></a>"
      ]
    },
    {
      "cell_type": "markdown",
      "source": [
        "# **Q1**/ Write a method that will remove any given character from a string ?"
      ],
      "metadata": {
        "id": "9WVpC21pnp3Z"
      }
    },
    {
      "cell_type": "code",
      "source": [
        "def remove_charater(word, c):\n",
        "    result = filter(lambda x: x != c, word)\n",
        "    return \"\".join(result)\n",
        "\n",
        "remove_charater(\"aidojokk machinekk learningkk\", \"k\") "
      ],
      "metadata": {
        "colab": {
          "base_uri": "https://localhost:8080/",
          "height": 35
        },
        "id": "LSa4slEDogmY",
        "outputId": "44a925ec-971a-408e-ace1-9f492a65381f"
      },
      "execution_count": 11,
      "outputs": [
        {
          "output_type": "execute_result",
          "data": {
            "text/plain": [
              "'aidojo machine learning'"
            ],
            "application/vnd.google.colaboratory.intrinsic+json": {
              "type": "string"
            }
          },
          "metadata": {},
          "execution_count": 11
        }
      ]
    },
    {
      "cell_type": "markdown",
      "source": [
        "# **Q2**/ Write a program to find all prime numbers up to a given range of numbers ?"
      ],
      "metadata": {
        "id": "T_71O9mlohvw"
      }
    },
    {
      "cell_type": "code",
      "source": [
        "min = int(input(\"Enter the min : \"))\n",
        "max = int(input(\"Enter the max : \"))\n",
        "\n",
        "for n in range(min,max + 1):\n",
        "   if n > 1:\n",
        "       for i in range(2,n):\n",
        "           if (n % i) == 0:\n",
        "               break\n",
        "       else:\n",
        "           print(n)"
      ],
      "metadata": {
        "colab": {
          "base_uri": "https://localhost:8080/"
        },
        "id": "utla60R_pGav",
        "outputId": "ebd9d166-cc14-4ca6-b623-7daad93e93cd"
      },
      "execution_count": 21,
      "outputs": [
        {
          "output_type": "stream",
          "name": "stdout",
          "text": [
            "Enter the min : 1\n",
            "Enter the max : 10\n",
            "2\n",
            "3\n",
            "5\n",
            "7\n"
          ]
        }
      ]
    },
    {
      "cell_type": "markdown",
      "source": [
        "# **Q3**/ Write a function that count how many the given character repeated in a given string ?"
      ],
      "metadata": {
        "id": "M1COgB2ypZFs"
      }
    },
    {
      "cell_type": "code",
      "source": [
        "def countChar(str, x):\n",
        "    count = 0\n",
        "    for i in range(len(str)):\n",
        "        if (str[i] == x) :\n",
        "            count += 1\n",
        "    n = 10     \n",
        "    repetitions = n // len(str)\n",
        "    count = count * repetitions\n",
        " \n",
        "    l = n % len(str)\n",
        "    for i in range(l):\n",
        "        if (str[i] == x):\n",
        "            count += 1\n",
        "    return count\n",
        " \n",
        "str = \"abcac\"\n",
        "print(countChar(str, 'a'))"
      ],
      "metadata": {
        "colab": {
          "base_uri": "https://localhost:8080/"
        },
        "id": "bbk-yMZzpwzI",
        "outputId": "c3e1535d-1921-4136-bd78-12a06dd84d52"
      },
      "execution_count": 20,
      "outputs": [
        {
          "output_type": "stream",
          "name": "stdout",
          "text": [
            "4\n"
          ]
        }
      ]
    }
  ]
}